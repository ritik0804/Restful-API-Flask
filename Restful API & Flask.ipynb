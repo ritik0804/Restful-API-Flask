{
  "cells": [
    {
      "cell_type": "markdown",
      "source": [
        "1. What is a RESTful API?\n",
        "--> A RESTful API (Representational State Transfer API) is an architectural style for building web services using HTTP methods. It treats server-side objects (data) as resources, which can be created, read, updated, and deleted using standard HTTP methods (GET, POST, PUT, DELETE).\n",
        "\n"
      ],
      "metadata": {
        "id": "GrSS2o2d_kCf"
      }
    },
    {
      "cell_type": "markdown",
      "source": [
        "2. Explain the concept of API specification\n",
        "--> An API specification is a detailed, standardized document that describes how an API works. It includes:\n",
        "\n",
        "Endpoints and routes\n",
        "\n",
        "Input and output data formats\n",
        "\n",
        "Authentication methods\n",
        "\n",
        "HTTP status codes\n",
        "\n",
        "Example requests/responses\n",
        "Common formats: OpenAPI (Swagger), RAML, API Blueprint."
      ],
      "metadata": {
        "id": "1CajyCvR_j_r"
      }
    },
    {
      "cell_type": "markdown",
      "source": [
        "3. What is Flask, and why is it popular for building APIs?\n",
        "--> Flask is a lightweight Python web framework used to build web apps and APIs. It's popular because:\n",
        "\n",
        "Minimalist and flexible\n",
        "\n",
        "Easy to learn\n",
        "\n",
        "Extensible with plugins (e.g., Flask-SQLAlchemy, Flask-RESTful)\n",
        "\n",
        "Great documentation\n",
        "\n"
      ],
      "metadata": {
        "id": "-lT93FIZ_j8-"
      }
    },
    {
      "cell_type": "markdown",
      "source": [
        " 4. What is routing in Flask?\n",
        "--> Routing in Flask refers to the mapping of URLs to Python functions (called view functions). It’s how Flask determines what code to run when a specific route is accessed.\n",
        "\n"
      ],
      "metadata": {
        "id": "3MNJRJ3m_j6D"
      }
    },
    {
      "cell_type": "markdown",
      "source": [
        " 5. How do you create a simple Flask application?\n",
        "\n",
        "from flask import Flask\n",
        "\n",
        "app = Flask(__name__)\n",
        "\n",
        "@app.route('/')\n",
        "def home():\n",
        "    return 'Hello, Flask!'\n",
        "\n",
        "if __name__ == '__main__':\n",
        "    app.run(debug=True)"
      ],
      "metadata": {
        "id": "4k90hml8_j29"
      }
    },
    {
      "cell_type": "markdown",
      "source": [
        " 6. What are HTTP methods used in RESTful APIs?\n",
        "GET – Retrieve data\n",
        "\n",
        "POST – Create new data\n",
        "\n",
        "PUT – Update existing data\n",
        "\n",
        "DELETE – Remove data\n",
        "\n",
        "PATCH – Partially update data\n",
        "\n"
      ],
      "metadata": {
        "id": "x-oOyY06_j0D"
      }
    },
    {
      "cell_type": "markdown",
      "source": [
        "7. What is the purpose of the @app.route() decorator in Flask?\n",
        "--> The @app.route() decorator maps a URL path to a view function. It tells Flask what function to execute for a given route."
      ],
      "metadata": {
        "id": "a3FOmmOC_jxZ"
      }
    },
    {
      "cell_type": "markdown",
      "source": [
        " 8. What is the difference between GET and POST HTTP methods?\n",
        "--> GET: Retrieves data; parameters are sent in the URL; safe and idempotent.\n",
        "\n",
        "POST: Sends data to the server to create/update; parameters are in the body; not idempotent.\n",
        "\n"
      ],
      "metadata": {
        "id": "s3cPh3Vl_jui"
      }
    },
    {
      "cell_type": "markdown",
      "source": [
        " 9. How do you handle errors in Flask APIs?\n",
        "Use Flask’s @app.errorhandler() decorator:\n",
        "\n",
        "python\n",
        "Copy\n",
        "Edit\n",
        "@app.errorhandler(404)\n",
        "def not_found(error):\n",
        "    return jsonify({'error': 'Not found'}), 404"
      ],
      "metadata": {
        "id": "_5h2Sn3e_jrp"
      }
    },
    {
      "cell_type": "markdown",
      "source": [
        " 10. How do you connect Flask to a SQL database?\n",
        "Use Flask-SQLAlchemy:\n",
        "\n",
        "python\n",
        "Copy\n",
        "Edit\n",
        "from flask_sqlalchemy import SQLAlchemy\n",
        "\n",
        "app.config['SQLALCHEMY_DATABASE_URI'] = 'sqlite:///data.db'\n",
        "db = SQLAlchemy(app)"
      ],
      "metadata": {
        "id": "1-Q8ZZjh_jow"
      }
    },
    {
      "cell_type": "markdown",
      "source": [
        "11. What is the role of Flask-SQLAlchemy?\n",
        "--> Flask-SQLAlchemy is an ORM (Object Relational Mapper) that lets you interact with databases using Python classes instead of SQL queries."
      ],
      "metadata": {
        "id": "G1A5S67f_jl9"
      }
    },
    {
      "cell_type": "markdown",
      "source": [
        "12. What are Flask blueprints, and how are they useful?\n",
        "--> Blueprints allow you to organize your Flask app into components/modules. Useful for:\n",
        "\n",
        "Large applications\n",
        "\n",
        "Code reusability\n",
        "\n",
        "Separating logic (e.g., auth, API, admin routes)"
      ],
      "metadata": {
        "id": "zgdW9Yrn_jjI"
      }
    },
    {
      "cell_type": "markdown",
      "source": [
        " 13. What is the purpose of Flask's request object?\n",
        "--> request provides access to:\n",
        "\n",
        "Form data (request.form)\n",
        "\n",
        "JSON payloads (request.get_json())\n",
        "\n",
        "URL parameters (request.args)\n",
        "\n",
        "HTTP headers and method"
      ],
      "metadata": {
        "id": "f0IzwirV_jgX"
      }
    },
    {
      "cell_type": "markdown",
      "source": [
        "14. How do you create a RESTful API endpoint using Flask?\n",
        "python\n",
        "Copy\n",
        "Edit\n",
        "@app.route('/api/user/<int:id>', methods=['GET'])\n",
        "def get_user(id):\n",
        "    user = {'id': id, 'name': 'John'}\n",
        "    return jsonify(user)"
      ],
      "metadata": {
        "id": "iI8dX7kJ_jdm"
      }
    },
    {
      "cell_type": "markdown",
      "source": [
        "15. What is the purpose of Flask's jsonify() function?\n",
        "--> jsonify() converts Python dictionaries or lists into JSON responses with the correct headers."
      ],
      "metadata": {
        "id": "AF-ra2ld_ja0"
      }
    },
    {
      "cell_type": "markdown",
      "source": [
        "16. Explain Flask’s url_for() function\n",
        "url_for() dynamically builds URLs for a given function name. Useful for avoiding hardcoded URLs.\n",
        "\n",
        "python\n",
        "Copy\n",
        "Edit\n",
        "url_for('home')  # returns '/'"
      ],
      "metadata": {
        "id": "nrAD-piPBxyJ"
      }
    },
    {
      "cell_type": "markdown",
      "source": [
        "17. How does Flask handle static files (CSS, JavaScript, etc.)?\n",
        "Place static files in a /static folder. Access them via:\n",
        "\n",
        "html\n",
        "Copy\n",
        "Edit\n",
        "<link rel=\"stylesheet\" href=\"{{ url_for('static', filename='style.css') }}\">\n"
      ],
      "metadata": {
        "id": "GS39ec9rBxvb"
      }
    },
    {
      "cell_type": "markdown",
      "source": [
        " 18. What is an API specification, and how does it help in building a Flask API?\n",
        "An API specification defines how an API behaves. It helps:\n",
        "\n",
        "Guide API development\n",
        "\n",
        "Ensure consistency\n",
        "\n",
        "Enable frontend-backend collaboration\n",
        "\n",
        "Serve as documentation for consumers"
      ],
      "metadata": {
        "id": "F4c7icxEBxsj"
      }
    },
    {
      "cell_type": "markdown",
      "source": [
        " 19. What are HTTP status codes, and why are they important in a Flask API?\n",
        "HTTP status codes indicate the result of a request:\n",
        "\n",
        "200 OK: Success\n",
        "\n",
        "201 Created: Resource created\n",
        "\n",
        "400 Bad Request: Client error\n",
        "\n",
        "404 Not Found\n",
        "\n",
        "500 Internal Server Error\n",
        "They are crucial for clients to understand responses."
      ],
      "metadata": {
        "id": "OPGljcLvBxp3"
      }
    },
    {
      "cell_type": "markdown",
      "source": [
        "20. How do you handle POST requests in Flask?\n",
        "python\n",
        "Copy\n",
        "Edit\n",
        "@app.route('/api/user', methods=['POST'])\n",
        "def create_user():\n",
        "    data = request.get_json()\n",
        "    return jsonify({'message': 'User created', 'data': data}), 201"
      ],
      "metadata": {
        "id": "XDsYZMEYBxnS"
      }
    },
    {
      "cell_type": "markdown",
      "source": [
        "21. How would you secure a Flask API?\n",
        "Use HTTPS\n",
        "\n",
        "Validate and sanitize input\n",
        "\n",
        "Use authentication (e.g., JWT, OAuth)\n",
        "\n",
        "Implement rate limiting\n",
        "\n",
        "Handle errors gracefully\n",
        "\n",
        "Use CSRF protection if needed"
      ],
      "metadata": {
        "id": "N7rXd3mHBxki"
      }
    },
    {
      "cell_type": "markdown",
      "source": [
        "22. What is the significance of the Flask-RESTful extension?\n",
        "Flask-RESTful simplifies the creation of REST APIs by:\n",
        "\n",
        "Structuring resources using classes\n",
        "\n",
        "Automatic request parsing\n",
        "\n",
        "Built-in support for HTTP methods and responses\n",
        "\n"
      ],
      "metadata": {
        "id": "jwzIcqxRBxh3"
      }
    },
    {
      "cell_type": "markdown",
      "source": [
        "23. What is the role of Flask’s session object?\n",
        "session stores data (like user login info) across requests. It uses a secure cookie:\n",
        "\n",
        "python\n",
        "Copy\n",
        "Edit\n",
        "session['username'] = 'kishan'"
      ],
      "metadata": {
        "id": "xG0Pm3u_BxfP"
      }
    },
    {
      "cell_type": "markdown",
      "source": [
        "# Practical Questions"
      ],
      "metadata": {
        "id": "VZlb1zMaBxcd"
      }
    },
    {
      "cell_type": "markdown",
      "source": [
        " 1. How do you create a basic Flask application?"
      ],
      "metadata": {
        "id": "APQg4S9fBxZS"
      }
    },
    {
      "cell_type": "code",
      "source": [
        "from flask import Flask\n",
        "\n",
        "app = Flask(__name__)\n",
        "\n",
        "@app.route('/')\n",
        "def home():\n",
        "    return 'Hello, Flask!'\n",
        "\n",
        "if __name__ == '__main__':\n",
        "    app.run(debug=True)\n"
      ],
      "metadata": {
        "id": "2CRHUcfdCn8-"
      },
      "execution_count": null,
      "outputs": []
    },
    {
      "cell_type": "markdown",
      "source": [
        " 2. How do you serve static files like images or CSS in Flask?\n",
        "Place your files in the static/ folder.\n",
        "\n",
        "Access them in HTML with:"
      ],
      "metadata": {
        "id": "jaOD4HfxCvOv"
      }
    },
    {
      "cell_type": "code",
      "source": [
        "<link rel=\"stylesheet\" href=\"{{ url_for('static', filename='style.css') }}\">\n",
        "<img src=\"{{ url_for('static', filename='logo.png') }}\">\n"
      ],
      "metadata": {
        "id": "qnHiEv3uCujc"
      },
      "execution_count": null,
      "outputs": []
    },
    {
      "cell_type": "markdown",
      "source": [
        "3. How do you define different routes with different HTTP methods in Flask?\n",
        "python\n",
        "Copy\n",
        "Edit\n"
      ],
      "metadata": {
        "id": "kDsz-suICucY"
      }
    },
    {
      "cell_type": "code",
      "source": [
        "@app.route('/submit', methods=['GET', 'POST'])\n",
        "def submit():\n",
        "    if request.method == 'POST':\n",
        "        return 'Form submitted!'\n",
        "    return 'Submit Form Page'\n"
      ],
      "metadata": {
        "id": "EKQ4G7QbCuS0"
      },
      "execution_count": null,
      "outputs": []
    },
    {
      "cell_type": "markdown",
      "source": [
        " 4. How do you render HTML templates in Flask?\n",
        "Store HTML files in a templates/ folder.\n",
        "\n",
        "Use render_template():"
      ],
      "metadata": {
        "id": "Zgg_J2vFCuIq"
      }
    },
    {
      "cell_type": "code",
      "source": [
        "from flask import render_template\n",
        "\n",
        "@app.route('/about')\n",
        "def about():\n",
        "    return render_template('about.html')\n"
      ],
      "metadata": {
        "id": "qbaP4myOCt-1"
      },
      "execution_count": null,
      "outputs": []
    },
    {
      "cell_type": "markdown",
      "source": [
        "5. How can you generate URLs for routes in Flask using url_for()?\n",
        "python\n",
        "Copy\n",
        "Edit\n"
      ],
      "metadata": {
        "id": "_MsITrD2Ct2w"
      }
    },
    {
      "cell_type": "code",
      "source": [
        "@app.route('/profile/<username>')\n",
        "def profile(username):\n",
        "    return f'User: {username}'\n",
        "\n",
        "# Generate URL\n",
        "url_for('profile', username='kishan')  # Output: /profile/kishan\n"
      ],
      "metadata": {
        "id": "mPmEMRqHCtuE"
      },
      "execution_count": null,
      "outputs": []
    },
    {
      "cell_type": "markdown",
      "source": [
        "6. How do you handle forms in Flask?\n",
        "python\n",
        "Copy\n",
        "Edit\n"
      ],
      "metadata": {
        "id": "oB-_Aq8VCtlS"
      }
    },
    {
      "cell_type": "code",
      "source": [
        "@app.route('/login', methods=['GET', 'POST'])\n",
        "def login():\n",
        "    if request.method == 'POST':\n",
        "        username = request.form['username']\n",
        "        return f'Welcome, {username}'\n",
        "    return render_template('login.html')\n"
      ],
      "metadata": {
        "id": "yMBNgxU8CtbL"
      },
      "execution_count": null,
      "outputs": []
    },
    {
      "cell_type": "markdown",
      "source": [
        " 7. How can you validate form data in Flask?"
      ],
      "metadata": {
        "id": "WQJzHKlPCtPq"
      }
    },
    {
      "cell_type": "code",
      "source": [
        "from flask_wtf import FlaskForm\n",
        "from wtforms import StringField\n",
        "from wtforms.validators import DataRequired\n",
        "\n",
        "class MyForm(FlaskForm):\n",
        "    name = StringField('Name', validators=[DataRequired()])\n"
      ],
      "metadata": {
        "id": "NjtOie71CtF9"
      },
      "execution_count": null,
      "outputs": []
    },
    {
      "cell_type": "markdown",
      "source": [
        "8. How do you manage sessions in Flask?"
      ],
      "metadata": {
        "id": "rZ0I_BmVCs6_"
      }
    },
    {
      "cell_type": "code",
      "source": [
        "from flask import session\n",
        "\n",
        "app.secret_key = 'secretkey123'  # Required for session\n",
        "\n",
        "@app.route('/set')\n",
        "def set_session():\n",
        "    session['user'] = 'kishan'\n",
        "    return 'Session set'\n",
        "\n",
        "@app.route('/get')\n",
        "def get_session():\n",
        "    return session.get('user', 'Not set')\n"
      ],
      "metadata": {
        "id": "L5LVMUiCCsva"
      },
      "execution_count": null,
      "outputs": []
    },
    {
      "cell_type": "markdown",
      "source": [
        "9. How do you redirect to a different route in Flask?"
      ],
      "metadata": {
        "id": "0dzzfRehCsiq"
      }
    },
    {
      "cell_type": "code",
      "source": [
        "from flask import redirect, url_for\n",
        "\n",
        "@app.route('/go-home')\n",
        "def go_home():\n",
        "    return redirect(url_for('home'))\n"
      ],
      "metadata": {
        "id": "p34izyeaCsVA"
      },
      "execution_count": null,
      "outputs": []
    },
    {
      "cell_type": "markdown",
      "source": [
        "10. How do you handle errors in Flask (e.g., 404)?"
      ],
      "metadata": {
        "id": "xWaSNLjMCsDi"
      }
    },
    {
      "cell_type": "code",
      "source": [
        "@app.errorhandler(404)\n",
        "def not_found(e):\n",
        "    return render_template('404.html'), 404\n"
      ],
      "metadata": {
        "id": "BoCQ0WsYCrvD"
      },
      "execution_count": null,
      "outputs": []
    },
    {
      "cell_type": "markdown",
      "source": [
        "11. How do you structure a Flask app using Blueprints?"
      ],
      "metadata": {
        "id": "VS5hyR0DDdr6"
      }
    },
    {
      "cell_type": "code",
      "source": [
        "from flask import Blueprint\n",
        "\n",
        "user_bp = Blueprint('user', __name__)\n",
        "\n",
        "@user_bp.route('/profile')\n",
        "def profile():\n",
        "    return 'User profile'\n"
      ],
      "metadata": {
        "id": "7wWqAzymDdiy"
      },
      "execution_count": null,
      "outputs": []
    },
    {
      "cell_type": "markdown",
      "source": [
        "12. How do you define a custom Jinja filter in Flask?"
      ],
      "metadata": {
        "id": "jka3Bk09DdZS"
      }
    },
    {
      "cell_type": "code",
      "source": [
        "@app.template_filter('capitalize_all')\n",
        "def capitalize_all(s):\n",
        "    return s.upper()\n",
        "\n",
        "# In template:\n",
        "{{ \"hello\"|capitalize_all }}  => HELLO\n"
      ],
      "metadata": {
        "id": "mQvcXvKoDdNv"
      },
      "execution_count": null,
      "outputs": []
    },
    {
      "cell_type": "markdown",
      "source": [
        "13. How can you redirect with query parameters in Flask?"
      ],
      "metadata": {
        "id": "80AgrYnFDu8u"
      }
    },
    {
      "cell_type": "code",
      "source": [
        "from flask import redirect, url_for\n",
        "\n",
        "@app.route('/login')\n",
        "def login():\n",
        "    return redirect(url_for('home', message='login_success'))\n",
        "\n",
        "# Result: /home?message=login_success\n"
      ],
      "metadata": {
        "id": "0E2ggSRIDxE_"
      },
      "execution_count": null,
      "outputs": []
    },
    {
      "cell_type": "markdown",
      "source": [],
      "metadata": {
        "id": "K2wqdgAgDdD1"
      }
    },
    {
      "cell_type": "markdown",
      "source": [],
      "metadata": {
        "id": "Vgrw7CWdBxAc"
      }
    }
  ],
  "metadata": {
    "colab": {
      "name": "Welcome to Colab",
      "provenance": []
    },
    "kernelspec": {
      "display_name": "Python 3",
      "name": "python3"
    }
  },
  "nbformat": 4,
  "nbformat_minor": 0
}